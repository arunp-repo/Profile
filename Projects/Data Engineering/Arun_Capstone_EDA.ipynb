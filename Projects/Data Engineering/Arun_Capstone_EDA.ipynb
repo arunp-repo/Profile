{
 "cells": [
  {
   "cell_type": "markdown",
   "metadata": {
    "colab_type": "text",
    "id": "XhCDMO5u9abz"
   },
   "source": [
    "# Problem Statement"
   ]
  },
  {
   "cell_type": "markdown",
   "metadata": {
    "colab_type": "text",
    "id": "HGEAiAnAg9U-"
   },
   "source": [
    "The problem deals with the assignment of incidents raised by Business and IT Users,  End users and vendors through ticketing systems. Assigning these tickets are done manually and there are lot of challenges associated with it, including human errors and response time. \n",
    "\n",
    "Based on the type of issue and the level of resolution required, the tickets are assigned to L1/L2 (Service Desk teams) or L3 (Functional teams)\n",
    "\n",
    "Two of the major issues are \n",
    "\n",
    "1. The assignment of tickets to the wrong group or functional teams. \n",
    "2. The increased turnaround time to some of these incidents have resulted in poor customer service. "
   ]
  },
  {
   "cell_type": "markdown",
   "metadata": {
    "colab_type": "text",
    "id": "fzh33x1J91Uw"
   },
   "source": [
    "# Objective of the project"
   ]
  },
  {
   "cell_type": "markdown",
   "metadata": {
    "colab_type": "text",
    "id": "BHu_oJtkl-mi"
   },
   "source": [
    "The focus of the project is to classify the incidents to be assigned to the right functional groups. The goal is to build a classifier that can classify these incident management tickets by analysing texts in these tickets."
   ]
  },
  {
   "cell_type": "markdown",
   "metadata": {
    "colab_type": "text",
    "id": "5SNxDCq0-ENb"
   },
   "source": [
    "# Project approach"
   ]
  },
  {
   "cell_type": "markdown",
   "metadata": {
    "colab_type": "text",
    "id": "RUPgWkGXob3M"
   },
   "source": [
    "The project goal is achived using the different milestone as seen below. At the outset, an attempt has been made to work on the following\n",
    "\n",
    "1. Learn how to use different text classification models.\n",
    "2. Use transfer learning to use pre-built models.\n",
    "3. Learn to ​ set the optimizers, loss functions, epochs, learning rate, batch size,\n",
    "checkpointing, early stopping etc.\n",
    "4. Read different research papers of a \n",
    "given domain to obtain the knowledge of\n",
    "advanced models for the given problem.\n"
   ]
  },
  {
   "cell_type": "markdown",
   "metadata": {
    "colab_type": "text",
    "id": "4oFfx30U-Own"
   },
   "source": [
    "# Milestone 1: Pre-Processing, Data Visualisation and EDA"
   ]
  },
  {
   "cell_type": "markdown",
   "metadata": {
    "colab_type": "text",
    "id": "7G-lauIeBqEu"
   },
   "source": [
    "### Import the required libraries for the Milestone 1 deliverable"
   ]
  },
  {
   "cell_type": "code",
   "execution_count": 1,
   "metadata": {
    "colab": {
     "base_uri": "https://localhost:8080/",
     "height": 54
    },
    "colab_type": "code",
    "id": "fyl7n6Fv_khD",
    "outputId": "49d3b064-b7ba-417b-d527-52f8b7ccc3b4"
   },
   "outputs": [
    {
     "name": "stderr",
     "output_type": "stream",
     "text": [
      "/usr/local/lib/python3.6/dist-packages/statsmodels/tools/_testing.py:19: FutureWarning: pandas.util.testing is deprecated. Use the functions in the public API at pandas.testing instead.\n",
      "  import pandas.util.testing as tm\n"
     ]
    }
   ],
   "source": [
    "import pandas as pd\n",
    "import numpy as np\n",
    "import seaborn as sns\n",
    "import matplotlib.pyplot as plt\n",
    "%matplotlib inline"
   ]
  },
  {
   "cell_type": "markdown",
   "metadata": {
    "colab_type": "text",
    "id": "j71Y3oa3_oy6"
   },
   "source": [
    "### Exploring the given Data files\n",
    "We will try and gather more information from the data. For that, we will do the following\n",
    "\n",
    "1. Data Collection\n",
    "2. Data Cleaning\n",
    "3. Data Analysis  \n",
    "4. Data Visualization\n",
    "\n",
    "The above aspects are accomplished by the a series of functions which we will perform on the dataset. We will have observations noted as we run each of them"
   ]
  },
  {
   "cell_type": "code",
   "execution_count": 2,
   "metadata": {
    "colab": {
     "base_uri": "https://localhost:8080/",
     "height": 128
    },
    "colab_type": "code",
    "id": "gOQMp0Zxisnz",
    "outputId": "e4fe2863-b57b-4ea9-84cf-9fafe54fe446"
   },
   "outputs": [
    {
     "name": "stdout",
     "output_type": "stream",
     "text": [
      "Go to this URL in a browser: https://accounts.google.com/o/oauth2/auth?client_id=947318989803-6bn6qk8qdgf4n4g3pfee6491hc0brc4i.apps.googleusercontent.com&redirect_uri=urn%3aietf%3awg%3aoauth%3a2.0%3aoob&scope=email%20https%3a%2f%2fwww.googleapis.com%2fauth%2fdocs.test%20https%3a%2f%2fwww.googleapis.com%2fauth%2fdrive%20https%3a%2f%2fwww.googleapis.com%2fauth%2fdrive.photos.readonly%20https%3a%2f%2fwww.googleapis.com%2fauth%2fpeopleapi.readonly&response_type=code\n",
      "\n",
      "Enter your authorization code:\n",
      "··········\n",
      "Mounted at /content/drive/\n"
     ]
    }
   ],
   "source": [
    "# Mount the drive to get required files\n",
    "from google.colab import drive\n",
    "drive.mount('/content/drive/')"
   ]
  },
  {
   "cell_type": "code",
   "execution_count": 3,
   "metadata": {
    "colab": {},
    "colab_type": "code",
    "id": "tt9xI-Psj6CE"
   },
   "outputs": [],
   "source": [
    "#Set your project path \n",
    "path = '/content/drive/My Drive/Capstone Project/'"
   ]
  },
  {
   "cell_type": "code",
   "execution_count": 4,
   "metadata": {
    "colab": {},
    "colab_type": "code",
    "id": "cwuaP5dEf0QD"
   },
   "outputs": [],
   "source": [
    "# Load the dataset \n",
    "data = pd.read_excel(path + 'input_data.xlsx')"
   ]
  },
  {
   "cell_type": "code",
   "execution_count": 5,
   "metadata": {
    "colab": {
     "base_uri": "https://localhost:8080/",
     "height": 198
    },
    "colab_type": "code",
    "id": "VvMWE9qxj4wI",
    "outputId": "48a7cc4d-fbb8-4887-b13a-8d75e2d3e98e"
   },
   "outputs": [
    {
     "data": {
      "text/html": [
       "<div>\n",
       "<style scoped>\n",
       "    .dataframe tbody tr th:only-of-type {\n",
       "        vertical-align: middle;\n",
       "    }\n",
       "\n",
       "    .dataframe tbody tr th {\n",
       "        vertical-align: top;\n",
       "    }\n",
       "\n",
       "    .dataframe thead th {\n",
       "        text-align: right;\n",
       "    }\n",
       "</style>\n",
       "<table border=\"1\" class=\"dataframe\">\n",
       "  <thead>\n",
       "    <tr style=\"text-align: right;\">\n",
       "      <th></th>\n",
       "      <th>Short description</th>\n",
       "      <th>Description</th>\n",
       "      <th>Caller</th>\n",
       "      <th>Assignment group</th>\n",
       "    </tr>\n",
       "  </thead>\n",
       "  <tbody>\n",
       "    <tr>\n",
       "      <th>0</th>\n",
       "      <td>login issue</td>\n",
       "      <td>-verified user details.(employee# &amp; manager na...</td>\n",
       "      <td>spxjnwir pjlcoqds</td>\n",
       "      <td>GRP_0</td>\n",
       "    </tr>\n",
       "    <tr>\n",
       "      <th>1</th>\n",
       "      <td>outlook</td>\n",
       "      <td>\\n\\nreceived from: hmjdrvpb.komuaywn@gmail.com...</td>\n",
       "      <td>hmjdrvpb komuaywn</td>\n",
       "      <td>GRP_0</td>\n",
       "    </tr>\n",
       "    <tr>\n",
       "      <th>2</th>\n",
       "      <td>cant log in to vpn</td>\n",
       "      <td>\\n\\nreceived from: eylqgodm.ybqkwiam@gmail.com...</td>\n",
       "      <td>eylqgodm ybqkwiam</td>\n",
       "      <td>GRP_0</td>\n",
       "    </tr>\n",
       "    <tr>\n",
       "      <th>3</th>\n",
       "      <td>unable to access hr_tool page</td>\n",
       "      <td>unable to access hr_tool page</td>\n",
       "      <td>xbkucsvz gcpydteq</td>\n",
       "      <td>GRP_0</td>\n",
       "    </tr>\n",
       "    <tr>\n",
       "      <th>4</th>\n",
       "      <td>skype error</td>\n",
       "      <td>skype error</td>\n",
       "      <td>owlgqjme qhcozdfx</td>\n",
       "      <td>GRP_0</td>\n",
       "    </tr>\n",
       "  </tbody>\n",
       "</table>\n",
       "</div>"
      ],
      "text/plain": [
       "               Short description  ... Assignment group\n",
       "0                    login issue  ...            GRP_0\n",
       "1                        outlook  ...            GRP_0\n",
       "2             cant log in to vpn  ...            GRP_0\n",
       "3  unable to access hr_tool page  ...            GRP_0\n",
       "4                   skype error   ...            GRP_0\n",
       "\n",
       "[5 rows x 4 columns]"
      ]
     },
     "execution_count": 5,
     "metadata": {
      "tags": []
     },
     "output_type": "execute_result"
    }
   ],
   "source": [
    "data.head()"
   ]
  },
  {
   "cell_type": "markdown",
   "metadata": {
    "colab_type": "text",
    "id": "CqpWKDDWW7K2"
   },
   "source": [
    "### Initial observations on the Data set\n",
    "\n",
    "1. Upon analyzing the first 5 records of the data set, we can firmly say that the objective could be solved using Supervised Learning algorithm and classification techniques. \n",
    "\n",
    "2. The Short description would be the independent attribute and the Description field would be the dependent attribute for the problem that we are solving."
   ]
  },
  {
   "cell_type": "code",
   "execution_count": 6,
   "metadata": {
    "colab": {
     "base_uri": "https://localhost:8080/",
     "height": 198
    },
    "colab_type": "code",
    "id": "STTAR7ei0qAG",
    "outputId": "33cea8e4-9e6f-419f-982a-09b51e3a0627"
   },
   "outputs": [
    {
     "data": {
      "text/html": [
       "<div>\n",
       "<style scoped>\n",
       "    .dataframe tbody tr th:only-of-type {\n",
       "        vertical-align: middle;\n",
       "    }\n",
       "\n",
       "    .dataframe tbody tr th {\n",
       "        vertical-align: top;\n",
       "    }\n",
       "\n",
       "    .dataframe thead th {\n",
       "        text-align: right;\n",
       "    }\n",
       "</style>\n",
       "<table border=\"1\" class=\"dataframe\">\n",
       "  <thead>\n",
       "    <tr style=\"text-align: right;\">\n",
       "      <th></th>\n",
       "      <th>Short description</th>\n",
       "      <th>Description</th>\n",
       "      <th>Caller</th>\n",
       "      <th>Assignment group</th>\n",
       "    </tr>\n",
       "  </thead>\n",
       "  <tbody>\n",
       "    <tr>\n",
       "      <th>8495</th>\n",
       "      <td>emails not coming in from zz mail</td>\n",
       "      <td>\\n\\nreceived from: avglmrts.vhqmtiua@gmail.com...</td>\n",
       "      <td>avglmrts vhqmtiua</td>\n",
       "      <td>GRP_29</td>\n",
       "    </tr>\n",
       "    <tr>\n",
       "      <th>8496</th>\n",
       "      <td>telephony_software issue</td>\n",
       "      <td>telephony_software issue</td>\n",
       "      <td>rbozivdq gmlhrtvp</td>\n",
       "      <td>GRP_0</td>\n",
       "    </tr>\n",
       "    <tr>\n",
       "      <th>8497</th>\n",
       "      <td>vip2: windows password reset for tifpdchb pedx...</td>\n",
       "      <td>vip2: windows password reset for tifpdchb pedx...</td>\n",
       "      <td>oybwdsgx oxyhwrfz</td>\n",
       "      <td>GRP_0</td>\n",
       "    </tr>\n",
       "    <tr>\n",
       "      <th>8498</th>\n",
       "      <td>machine nÃ£o estÃ¡ funcionando</td>\n",
       "      <td>i am unable to access the machine utilities to...</td>\n",
       "      <td>ufawcgob aowhxjky</td>\n",
       "      <td>GRP_62</td>\n",
       "    </tr>\n",
       "    <tr>\n",
       "      <th>8499</th>\n",
       "      <td>an mehreren pc`s lassen sich verschiedene prgr...</td>\n",
       "      <td>an mehreren pc`s lassen sich verschiedene prgr...</td>\n",
       "      <td>kqvbrspl jyzoklfx</td>\n",
       "      <td>GRP_49</td>\n",
       "    </tr>\n",
       "  </tbody>\n",
       "</table>\n",
       "</div>"
      ],
      "text/plain": [
       "                                      Short description  ... Assignment group\n",
       "8495                  emails not coming in from zz mail  ...           GRP_29\n",
       "8496                           telephony_software issue  ...            GRP_0\n",
       "8497  vip2: windows password reset for tifpdchb pedx...  ...            GRP_0\n",
       "8498                     machine nÃ£o estÃ¡ funcionando  ...           GRP_62\n",
       "8499  an mehreren pc`s lassen sich verschiedene prgr...  ...           GRP_49\n",
       "\n",
       "[5 rows x 4 columns]"
      ]
     },
     "execution_count": 6,
     "metadata": {
      "tags": []
     },
     "output_type": "execute_result"
    }
   ],
   "source": [
    "data.tail()"
   ]
  },
  {
   "cell_type": "markdown",
   "metadata": {
    "colab_type": "text",
    "id": "imIeOqoNlm0j"
   },
   "source": [
    "### Observations on Data Attributes\n",
    "\n",
    "A quick look into the attributes of the data set. These are the information that we already have.\n",
    "1. Short description --- Short form of the complete details in easily identifiable words\n",
    "2. Description       --- The details of the complete incident that has come from the various users\n",
    "3. Caller            --- Anonymized representation of the first and last name of the users\n",
    "4. Assignment group  --- There are about 73 groups into which the different incidents are being categorized.\n",
    "\n",
    "### Inference on Data attributes\n",
    "\n",
    "Upon observing the dataset, \n",
    "1. We can say that the assignment group would be a critical attribute for the business. Based on the Short description, the tickets are being categorized into this attribute.\n",
    "2. Also, we can drop the column named Caller as it does not add any value to our analysis "
   ]
  },
  {
   "cell_type": "code",
   "execution_count": 7,
   "metadata": {
    "colab": {
     "base_uri": "https://localhost:8080/",
     "height": 235
    },
    "colab_type": "code",
    "id": "ifPaL3Bxejy-",
    "outputId": "2a5f5a3b-bdd6-4a22-9674-01a220811519"
   },
   "outputs": [
    {
     "data": {
      "text/plain": [
       "0                                             login issue\n",
       "1                                                 outlook\n",
       "2                                      cant log in to vpn\n",
       "3                           unable to access hr_tool page\n",
       "4                                            skype error \n",
       "                              ...                        \n",
       "8495                    emails not coming in from zz mail\n",
       "8496                             telephony_software issue\n",
       "8497    vip2: windows password reset for tifpdchb pedx...\n",
       "8498                       machine nÃ£o estÃ¡ funcionando\n",
       "8499    an mehreren pc`s lassen sich verschiedene prgr...\n",
       "Name: Short description, Length: 8500, dtype: object"
      ]
     },
     "execution_count": 7,
     "metadata": {
      "tags": []
     },
     "output_type": "execute_result"
    }
   ],
   "source": [
    "data['Short description'][0:]"
   ]
  },
  {
   "cell_type": "markdown",
   "metadata": {
    "colab_type": "text",
    "id": "2VyhSjHpf8XI"
   },
   "source": [
    "### Observations on the records in Data set\n",
    "\n",
    "1. There are about 8500 records which have been given to us in the data set.\n",
    "2. Some of the incidents are fairly simple like login issue. Some have a complex short description\n",
    "3. Some of them have many characters and data (email id) associated with it, which needs to be removed.\n",
    "4. Some records have a short description which are in other languages (and not in English)\n"
   ]
  },
  {
   "cell_type": "markdown",
   "metadata": {
    "colab_type": "text",
    "id": "pEE01EpcBRKA"
   },
   "source": [
    "In the following section, we will Understanding the structure and characterestics of the data"
   ]
  },
  {
   "cell_type": "code",
   "execution_count": 8,
   "metadata": {
    "colab": {
     "base_uri": "https://localhost:8080/",
     "height": 108
    },
    "colab_type": "code",
    "id": "8h7L3pSyBS4i",
    "outputId": "c48f062d-88fb-4820-f71c-b2c86bf5cd83"
   },
   "outputs": [
    {
     "data": {
      "text/plain": [
       "Short description    object\n",
       "Description          object\n",
       "Caller               object\n",
       "Assignment group     object\n",
       "dtype: object"
      ]
     },
     "execution_count": 8,
     "metadata": {
      "tags": []
     },
     "output_type": "execute_result"
    }
   ],
   "source": [
    "# Printing the data types of all the attributes of the data set\n",
    "data.dtypes"
   ]
  },
  {
   "cell_type": "code",
   "execution_count": 9,
   "metadata": {
    "colab": {
     "base_uri": "https://localhost:8080/",
     "height": 35
    },
    "colab_type": "code",
    "id": "hgoTIx0bq2DL",
    "outputId": "7256d175-900a-4d92-8b92-10e7c7a0afb5"
   },
   "outputs": [
    {
     "data": {
      "text/plain": [
       "(8500, 4)"
      ]
     },
     "execution_count": 9,
     "metadata": {
      "tags": []
     },
     "output_type": "execute_result"
    }
   ],
   "source": [
    "# Printing the shape as well\n",
    "data.shape"
   ]
  },
  {
   "cell_type": "code",
   "execution_count": 10,
   "metadata": {
    "colab": {
     "base_uri": "https://localhost:8080/",
     "height": 168
    },
    "colab_type": "code",
    "id": "90FlWS8aBXrg",
    "outputId": "951cd59f-b76b-45f6-d5d2-fd12a07a7cee"
   },
   "outputs": [
    {
     "data": {
      "text/html": [
       "<div>\n",
       "<style scoped>\n",
       "    .dataframe tbody tr th:only-of-type {\n",
       "        vertical-align: middle;\n",
       "    }\n",
       "\n",
       "    .dataframe tbody tr th {\n",
       "        vertical-align: top;\n",
       "    }\n",
       "\n",
       "    .dataframe thead th {\n",
       "        text-align: right;\n",
       "    }\n",
       "</style>\n",
       "<table border=\"1\" class=\"dataframe\">\n",
       "  <thead>\n",
       "    <tr style=\"text-align: right;\">\n",
       "      <th></th>\n",
       "      <th>Short description</th>\n",
       "      <th>Description</th>\n",
       "      <th>Caller</th>\n",
       "      <th>Assignment group</th>\n",
       "    </tr>\n",
       "  </thead>\n",
       "  <tbody>\n",
       "    <tr>\n",
       "      <th>count</th>\n",
       "      <td>8492</td>\n",
       "      <td>8499</td>\n",
       "      <td>8500</td>\n",
       "      <td>8500</td>\n",
       "    </tr>\n",
       "    <tr>\n",
       "      <th>unique</th>\n",
       "      <td>7481</td>\n",
       "      <td>7814</td>\n",
       "      <td>2950</td>\n",
       "      <td>74</td>\n",
       "    </tr>\n",
       "    <tr>\n",
       "      <th>top</th>\n",
       "      <td>password reset</td>\n",
       "      <td>the</td>\n",
       "      <td>bpctwhsn kzqsbmtp</td>\n",
       "      <td>GRP_0</td>\n",
       "    </tr>\n",
       "    <tr>\n",
       "      <th>freq</th>\n",
       "      <td>38</td>\n",
       "      <td>56</td>\n",
       "      <td>810</td>\n",
       "      <td>3976</td>\n",
       "    </tr>\n",
       "  </tbody>\n",
       "</table>\n",
       "</div>"
      ],
      "text/plain": [
       "       Short description Description             Caller Assignment group\n",
       "count               8492        8499               8500             8500\n",
       "unique              7481        7814               2950               74\n",
       "top       password reset         the  bpctwhsn kzqsbmtp            GRP_0\n",
       "freq                  38          56                810             3976"
      ]
     },
     "execution_count": 10,
     "metadata": {
      "tags": []
     },
     "output_type": "execute_result"
    }
   ],
   "source": [
    "data.describe()"
   ]
  },
  {
   "cell_type": "markdown",
   "metadata": {
    "colab_type": "text",
    "id": "10rzhoBZjhU6"
   },
   "source": [
    "### More observations on records and data set\n",
    "The data types (object) and the number of records (8500) and columns (4) are being observed here. Some other business insights that we get by executing the descrive method include\n",
    "\n",
    "1. The Caller and Assignment Group dont have any missing items and their field has the required data.\n",
    "2. When it comes to the number of unique items, we could observe that\n",
    "\n",
    "*   8500 incidents have been created by 2950 users\n",
    "*   GRP_0 seems to be the group to handle maximum number of incidents\n",
    "*   Most incidents raised by the users deal with \"Password reset\" issue\n",
    "*   One tenth of the incidents have come from one particular user (anonymized as bpctwhsn kzqsbmtp)\n",
    "*   There are 74 unique groups to which all the incidents raised are distributed.\n",
    "\n",
    "These are important patterms obtained from the above. We will derive more insights as we explore the data further\n"
   ]
  },
  {
   "cell_type": "markdown",
   "metadata": {
    "colab_type": "text",
    "id": "HV01JGxABTyE"
   },
   "source": [
    "### Missing points in data set"
   ]
  },
  {
   "cell_type": "code",
   "execution_count": 11,
   "metadata": {
    "colab": {
     "base_uri": "https://localhost:8080/",
     "height": 198
    },
    "colab_type": "code",
    "id": "DMP9ciblBasx",
    "outputId": "3c902752-e598-413e-c47a-e08de8af2c0e"
   },
   "outputs": [
    {
     "data": {
      "text/html": [
       "<div>\n",
       "<style scoped>\n",
       "    .dataframe tbody tr th:only-of-type {\n",
       "        vertical-align: middle;\n",
       "    }\n",
       "\n",
       "    .dataframe tbody tr th {\n",
       "        vertical-align: top;\n",
       "    }\n",
       "\n",
       "    .dataframe thead th {\n",
       "        text-align: right;\n",
       "    }\n",
       "</style>\n",
       "<table border=\"1\" class=\"dataframe\">\n",
       "  <thead>\n",
       "    <tr style=\"text-align: right;\">\n",
       "      <th></th>\n",
       "      <th>Short_description</th>\n",
       "      <th>Description</th>\n",
       "      <th>Caller</th>\n",
       "      <th>Assignment_group</th>\n",
       "    </tr>\n",
       "  </thead>\n",
       "  <tbody>\n",
       "    <tr>\n",
       "      <th>0</th>\n",
       "      <td>login issue</td>\n",
       "      <td>-verified user details.(employee# &amp; manager na...</td>\n",
       "      <td>spxjnwir pjlcoqds</td>\n",
       "      <td>GRP_0</td>\n",
       "    </tr>\n",
       "    <tr>\n",
       "      <th>1</th>\n",
       "      <td>outlook</td>\n",
       "      <td>\\n\\nreceived from: hmjdrvpb.komuaywn@gmail.com...</td>\n",
       "      <td>hmjdrvpb komuaywn</td>\n",
       "      <td>GRP_0</td>\n",
       "    </tr>\n",
       "    <tr>\n",
       "      <th>2</th>\n",
       "      <td>cant log in to vpn</td>\n",
       "      <td>\\n\\nreceived from: eylqgodm.ybqkwiam@gmail.com...</td>\n",
       "      <td>eylqgodm ybqkwiam</td>\n",
       "      <td>GRP_0</td>\n",
       "    </tr>\n",
       "    <tr>\n",
       "      <th>3</th>\n",
       "      <td>unable to access hr_tool page</td>\n",
       "      <td>unable to access hr_tool page</td>\n",
       "      <td>xbkucsvz gcpydteq</td>\n",
       "      <td>GRP_0</td>\n",
       "    </tr>\n",
       "    <tr>\n",
       "      <th>4</th>\n",
       "      <td>skype error</td>\n",
       "      <td>skype error</td>\n",
       "      <td>owlgqjme qhcozdfx</td>\n",
       "      <td>GRP_0</td>\n",
       "    </tr>\n",
       "  </tbody>\n",
       "</table>\n",
       "</div>"
      ],
      "text/plain": [
       "               Short_description  ... Assignment_group\n",
       "0                    login issue  ...            GRP_0\n",
       "1                        outlook  ...            GRP_0\n",
       "2             cant log in to vpn  ...            GRP_0\n",
       "3  unable to access hr_tool page  ...            GRP_0\n",
       "4                   skype error   ...            GRP_0\n",
       "\n",
       "[5 rows x 4 columns]"
      ]
     },
     "execution_count": 11,
     "metadata": {
      "tags": []
     },
     "output_type": "execute_result"
    }
   ],
   "source": [
    "# Renaming the columns so that it will be easier to use these attributes in the dataset during analysis\n",
    "\n",
    "data.rename(columns={'Short description': 'Short_description', 'Assignment group': 'Assignment_group'}, inplace=True)\n",
    "data.head()"
   ]
  },
  {
   "cell_type": "code",
   "execution_count": 12,
   "metadata": {
    "colab": {
     "base_uri": "https://localhost:8080/",
     "height": 108
    },
    "colab_type": "code",
    "id": "tqTzOdjrn_V0",
    "outputId": "a5e4b33c-239f-4aa8-e75d-ac69197af3f3"
   },
   "outputs": [
    {
     "data": {
      "text/plain": [
       "Short_description    8\n",
       "Description          1\n",
       "Caller               0\n",
       "Assignment_group     0\n",
       "dtype: int64"
      ]
     },
     "execution_count": 12,
     "metadata": {
      "tags": []
     },
     "output_type": "execute_result"
    }
   ],
   "source": [
    "data.isnull().sum()"
   ]
  },
  {
   "cell_type": "markdown",
   "metadata": {
    "colab_type": "text",
    "id": "wy5O3WXrY1FG"
   },
   "source": [
    "### Approach in handling the missing points in data set\n",
    "\n",
    "1. There are about 8 records whose Short descriptions field dont have a specific value\n",
    "2. There is 1 Description field which has a missing value\n",
    "3. So we will try t oreplace them with NaN in all missing fields.\n",
    "4. We will drop the record which has the blank Description field, without that we cannot confidently fill the Short Description attribute.\n",
    "5. For the missing Short description field, we will fill them by looking into Description and compare them with records having same/similar Description and their respective Short description. Since the Description field is going to be the same, we will use the Short Description as well and fill them with same content."
   ]
  },
  {
   "cell_type": "code",
   "execution_count": 13,
   "metadata": {
    "colab": {},
    "colab_type": "code",
    "id": "uIBI5MO9A7Ph"
   },
   "outputs": [],
   "source": [
    "data['Description'] = data['Description'].replace('\\n',np.NaN)\n",
    "data['Short_description'] = data['Short_description'].replace('',np.NaN)"
   ]
  },
  {
   "cell_type": "code",
   "execution_count": 14,
   "metadata": {
    "colab": {
     "base_uri": "https://localhost:8080/",
     "height": 138
    },
    "colab_type": "code",
    "id": "wWiACLI9GXEW",
    "outputId": "8ba72b46-a11b-4c6a-90f8-37a8ac800889"
   },
   "outputs": [
    {
     "data": {
      "text/html": [
       "<div>\n",
       "<style scoped>\n",
       "    .dataframe tbody tr th:only-of-type {\n",
       "        vertical-align: middle;\n",
       "    }\n",
       "\n",
       "    .dataframe tbody tr th {\n",
       "        vertical-align: top;\n",
       "    }\n",
       "\n",
       "    .dataframe thead th {\n",
       "        text-align: right;\n",
       "    }\n",
       "</style>\n",
       "<table border=\"1\" class=\"dataframe\">\n",
       "  <thead>\n",
       "    <tr style=\"text-align: right;\">\n",
       "      <th></th>\n",
       "      <th>Short_description</th>\n",
       "      <th>Description</th>\n",
       "      <th>Caller</th>\n",
       "      <th>Assignment_group</th>\n",
       "    </tr>\n",
       "  </thead>\n",
       "  <tbody>\n",
       "    <tr>\n",
       "      <th>7397</th>\n",
       "      <td>browser issue :</td>\n",
       "      <td>NaN</td>\n",
       "      <td>fgejnhux fnkymoht</td>\n",
       "      <td>GRP_0</td>\n",
       "    </tr>\n",
       "    <tr>\n",
       "      <th>2604</th>\n",
       "      <td>NaN</td>\n",
       "      <td>\\n\\nreceived from: ohdrnswl.rezuibdt@gmail.com...</td>\n",
       "      <td>ohdrnswl rezuibdt</td>\n",
       "      <td>GRP_34</td>\n",
       "    </tr>\n",
       "    <tr>\n",
       "      <th>3924</th>\n",
       "      <td>NaN</td>\n",
       "      <td>name:wvqgbdhm fwchqjor\\nlanguage:\\nbrowser:mic...</td>\n",
       "      <td>wvqgbdhm fwchqjor</td>\n",
       "      <td>GRP_0</td>\n",
       "    </tr>\n",
       "  </tbody>\n",
       "</table>\n",
       "</div>"
      ],
      "text/plain": [
       "     Short_description  ... Assignment_group\n",
       "7397  browser issue :   ...            GRP_0\n",
       "2604               NaN  ...           GRP_34\n",
       "3924               NaN  ...            GRP_0\n",
       "\n",
       "[3 rows x 4 columns]"
      ]
     },
     "execution_count": 14,
     "metadata": {
      "tags": []
     },
     "output_type": "execute_result"
    }
   ],
   "source": [
    "data.iloc[[7397, 2604, 3924]]"
   ]
  },
  {
   "cell_type": "code",
   "execution_count": 15,
   "metadata": {
    "colab": {
     "base_uri": "https://localhost:8080/",
     "height": 407
    },
    "colab_type": "code",
    "id": "uN6tzCeXkW7m",
    "outputId": "63c48872-0206-4adb-eaa4-c929feeb4938"
   },
   "outputs": [
    {
     "data": {
      "text/html": [
       "<div>\n",
       "<style scoped>\n",
       "    .dataframe tbody tr th:only-of-type {\n",
       "        vertical-align: middle;\n",
       "    }\n",
       "\n",
       "    .dataframe tbody tr th {\n",
       "        vertical-align: top;\n",
       "    }\n",
       "\n",
       "    .dataframe thead th {\n",
       "        text-align: right;\n",
       "    }\n",
       "</style>\n",
       "<table border=\"1\" class=\"dataframe\">\n",
       "  <thead>\n",
       "    <tr style=\"text-align: right;\">\n",
       "      <th></th>\n",
       "      <th>Short_description</th>\n",
       "      <th>Description</th>\n",
       "      <th>Caller</th>\n",
       "      <th>Assignment_group</th>\n",
       "    </tr>\n",
       "  </thead>\n",
       "  <tbody>\n",
       "    <tr>\n",
       "      <th>0</th>\n",
       "      <td>login issue</td>\n",
       "      <td>-verified user details.(employee# &amp; manager na...</td>\n",
       "      <td>spxjnwir pjlcoqds</td>\n",
       "      <td>GRP_0</td>\n",
       "    </tr>\n",
       "    <tr>\n",
       "      <th>1</th>\n",
       "      <td>outlook</td>\n",
       "      <td>\\n\\nreceived from: hmjdrvpb.komuaywn@gmail.com...</td>\n",
       "      <td>hmjdrvpb komuaywn</td>\n",
       "      <td>GRP_0</td>\n",
       "    </tr>\n",
       "    <tr>\n",
       "      <th>2</th>\n",
       "      <td>cant log in to vpn</td>\n",
       "      <td>\\n\\nreceived from: eylqgodm.ybqkwiam@gmail.com...</td>\n",
       "      <td>eylqgodm ybqkwiam</td>\n",
       "      <td>GRP_0</td>\n",
       "    </tr>\n",
       "    <tr>\n",
       "      <th>3</th>\n",
       "      <td>unable to access hr_tool page</td>\n",
       "      <td>unable to access hr_tool page</td>\n",
       "      <td>xbkucsvz gcpydteq</td>\n",
       "      <td>GRP_0</td>\n",
       "    </tr>\n",
       "    <tr>\n",
       "      <th>4</th>\n",
       "      <td>skype error</td>\n",
       "      <td>skype error</td>\n",
       "      <td>owlgqjme qhcozdfx</td>\n",
       "      <td>GRP_0</td>\n",
       "    </tr>\n",
       "    <tr>\n",
       "      <th>...</th>\n",
       "      <td>...</td>\n",
       "      <td>...</td>\n",
       "      <td>...</td>\n",
       "      <td>...</td>\n",
       "    </tr>\n",
       "    <tr>\n",
       "      <th>8495</th>\n",
       "      <td>emails not coming in from zz mail</td>\n",
       "      <td>\\n\\nreceived from: avglmrts.vhqmtiua@gmail.com...</td>\n",
       "      <td>avglmrts vhqmtiua</td>\n",
       "      <td>GRP_29</td>\n",
       "    </tr>\n",
       "    <tr>\n",
       "      <th>8496</th>\n",
       "      <td>telephony_software issue</td>\n",
       "      <td>telephony_software issue</td>\n",
       "      <td>rbozivdq gmlhrtvp</td>\n",
       "      <td>GRP_0</td>\n",
       "    </tr>\n",
       "    <tr>\n",
       "      <th>8497</th>\n",
       "      <td>vip2: windows password reset for tifpdchb pedx...</td>\n",
       "      <td>vip2: windows password reset for tifpdchb pedx...</td>\n",
       "      <td>oybwdsgx oxyhwrfz</td>\n",
       "      <td>GRP_0</td>\n",
       "    </tr>\n",
       "    <tr>\n",
       "      <th>8498</th>\n",
       "      <td>machine nÃ£o estÃ¡ funcionando</td>\n",
       "      <td>i am unable to access the machine utilities to...</td>\n",
       "      <td>ufawcgob aowhxjky</td>\n",
       "      <td>GRP_62</td>\n",
       "    </tr>\n",
       "    <tr>\n",
       "      <th>8499</th>\n",
       "      <td>an mehreren pc`s lassen sich verschiedene prgr...</td>\n",
       "      <td>an mehreren pc`s lassen sich verschiedene prgr...</td>\n",
       "      <td>kqvbrspl jyzoklfx</td>\n",
       "      <td>GRP_49</td>\n",
       "    </tr>\n",
       "  </tbody>\n",
       "</table>\n",
       "<p>8499 rows × 4 columns</p>\n",
       "</div>"
      ],
      "text/plain": [
       "                                      Short_description  ... Assignment_group\n",
       "0                                           login issue  ...            GRP_0\n",
       "1                                               outlook  ...            GRP_0\n",
       "2                                    cant log in to vpn  ...            GRP_0\n",
       "3                         unable to access hr_tool page  ...            GRP_0\n",
       "4                                          skype error   ...            GRP_0\n",
       "...                                                 ...  ...              ...\n",
       "8495                  emails not coming in from zz mail  ...           GRP_29\n",
       "8496                           telephony_software issue  ...            GRP_0\n",
       "8497  vip2: windows password reset for tifpdchb pedx...  ...            GRP_0\n",
       "8498                     machine nÃ£o estÃ¡ funcionando  ...           GRP_62\n",
       "8499  an mehreren pc`s lassen sich verschiedene prgr...  ...           GRP_49\n",
       "\n",
       "[8499 rows x 4 columns]"
      ]
     },
     "execution_count": 15,
     "metadata": {
      "tags": []
     },
     "output_type": "execute_result"
    }
   ],
   "source": [
    "#data['Description'] = \n",
    "data.drop(data.index[7397])"
   ]
  },
  {
   "cell_type": "code",
   "execution_count": 16,
   "metadata": {
    "colab": {},
    "colab_type": "code",
    "id": "wOUTSFwhqrTV"
   },
   "outputs": [],
   "source": [
    "data['Short_description'].fillna('vpn login issue.', inplace=True)"
   ]
  },
  {
   "cell_type": "code",
   "execution_count": 17,
   "metadata": {
    "colab": {
     "base_uri": "https://localhost:8080/",
     "height": 138
    },
    "colab_type": "code",
    "id": "P-uDqlONsapm",
    "outputId": "4ad135ca-97d0-4a36-cfc7-fdb18526c2b8"
   },
   "outputs": [
    {
     "data": {
      "text/html": [
       "<div>\n",
       "<style scoped>\n",
       "    .dataframe tbody tr th:only-of-type {\n",
       "        vertical-align: middle;\n",
       "    }\n",
       "\n",
       "    .dataframe tbody tr th {\n",
       "        vertical-align: top;\n",
       "    }\n",
       "\n",
       "    .dataframe thead th {\n",
       "        text-align: right;\n",
       "    }\n",
       "</style>\n",
       "<table border=\"1\" class=\"dataframe\">\n",
       "  <thead>\n",
       "    <tr style=\"text-align: right;\">\n",
       "      <th></th>\n",
       "      <th>Short_description</th>\n",
       "      <th>Description</th>\n",
       "      <th>Caller</th>\n",
       "      <th>Assignment_group</th>\n",
       "    </tr>\n",
       "  </thead>\n",
       "  <tbody>\n",
       "    <tr>\n",
       "      <th>7397</th>\n",
       "      <td>browser issue :</td>\n",
       "      <td>NaN</td>\n",
       "      <td>fgejnhux fnkymoht</td>\n",
       "      <td>GRP_0</td>\n",
       "    </tr>\n",
       "    <tr>\n",
       "      <th>2604</th>\n",
       "      <td>vpn login issue.</td>\n",
       "      <td>\\n\\nreceived from: ohdrnswl.rezuibdt@gmail.com...</td>\n",
       "      <td>ohdrnswl rezuibdt</td>\n",
       "      <td>GRP_34</td>\n",
       "    </tr>\n",
       "    <tr>\n",
       "      <th>3924</th>\n",
       "      <td>vpn login issue.</td>\n",
       "      <td>name:wvqgbdhm fwchqjor\\nlanguage:\\nbrowser:mic...</td>\n",
       "      <td>wvqgbdhm fwchqjor</td>\n",
       "      <td>GRP_0</td>\n",
       "    </tr>\n",
       "  </tbody>\n",
       "</table>\n",
       "</div>"
      ],
      "text/plain": [
       "     Short_description  ... Assignment_group\n",
       "7397  browser issue :   ...            GRP_0\n",
       "2604  vpn login issue.  ...           GRP_34\n",
       "3924  vpn login issue.  ...            GRP_0\n",
       "\n",
       "[3 rows x 4 columns]"
      ]
     },
     "execution_count": 17,
     "metadata": {
      "tags": []
     },
     "output_type": "execute_result"
    }
   ],
   "source": [
    "# Manually checking the records to see if the NaN is filled up\n",
    "data.iloc[[7397, 2604, 3924]]"
   ]
  },
  {
   "cell_type": "code",
   "execution_count": 18,
   "metadata": {
    "colab": {
     "base_uri": "https://localhost:8080/",
     "height": 515
    },
    "colab_type": "code",
    "id": "UMUbeD-xnJbX",
    "outputId": "7dc5d94d-92f4-4749-83dc-07ae97c74d7e"
   },
   "outputs": [
    {
     "name": "stdout",
     "output_type": "stream",
     "text": [
      "bpctwhsn kzqsbmtp    810\n",
      "ZkBogxib QsEJzdZO    151\n",
      "fumkcsji sarmtlhy    134\n",
      "rbozivdq gmlhrtvp     87\n",
      "rkupnshb gsmzfojw     71\n",
      "                    ... \n",
      "xcufgmhj yezfxmga      1\n",
      "dycmlejx iycsvhzl      1\n",
      "creojvdh ciblyskg      1\n",
      "skxfydnr cdgrsqnw      1\n",
      "xsnrlygw nmqyraec      1\n",
      "Name: Caller, Length: 2950, dtype: int64\n"
     ]
    },
    {
     "data": {
      "text/plain": [
       "<matplotlib.axes._subplots.AxesSubplot at 0x7f6be0342668>"
      ]
     },
     "execution_count": 18,
     "metadata": {
      "tags": []
     },
     "output_type": "execute_result"
    },
    {
     "data": {
      "image/png": "[encoded data removed]",
      "text/plain": [
       "<Figure size 432x288 with 1 Axes>"
      ]
     },
     "metadata": {
      "needs_background": "light",
      "tags": []
     },
     "output_type": "display_data"
    }
   ],
   "source": [
    "Temp1 = data.Caller.value_counts()\n",
    "print(Temp1)\n",
    "sns.countplot(y=\"Caller\", data=data, palette=\"Greens_d\",\n",
    "              order=data.Caller.value_counts().iloc[:15].index)"
   ]
  },
  {
   "cell_type": "code",
   "execution_count": 19,
   "metadata": {
    "colab": {
     "base_uri": "https://localhost:8080/",
     "height": 108
    },
    "colab_type": "code",
    "id": "lJ-8euAsVcLg",
    "outputId": "b12dc157-8d97-4447-d589-92fb7b7da271"
   },
   "outputs": [
    {
     "data": {
      "text/plain": [
       "count                  8500\n",
       "unique                 2950\n",
       "top       bpctwhsn kzqsbmtp\n",
       "freq                    810\n",
       "Name: Caller, dtype: object"
      ]
     },
     "execution_count": 19,
     "metadata": {
      "tags": []
     },
     "output_type": "execute_result"
    }
   ],
   "source": [
    "data['Caller'].describe()"
   ]
  },
  {
   "cell_type": "markdown",
   "metadata": {
    "colab_type": "text",
    "id": "AusbIWt-1OP6"
   },
   "source": [
    "### Observations on the callers and incidents raised by them\n",
    "\n",
    "Doing a count on the number of incidents raised by the Callers, we infer the following details from the incidents raised by these top 3 users\n",
    "\n",
    "* User 1: bpctwhsn kzqsbmtp\n",
    "* User 2: ZkBogxib QsEJzdZO \n",
    "* User 3: fumkcsji sarmtlhy\n",
    "* User 4: rbozivdq gmlhrtvp\n",
    "\n",
    "1. Most of the incidents reported by the user 1 are job_scheduler failures. There seems to be multiple reasons for this type of failures. \n",
    "2. User 2 and User 3 seems to have incidents reported on abandoned jobs and an update on the ticket.\n",
    "3. Though the incidents have been assigned to different groups, there is a high possibility that they might have been raised by an administrator, considering the volume of tickets. \n"
   ]
  },
  {
   "cell_type": "code",
   "execution_count": 20,
   "metadata": {
    "colab": {
     "base_uri": "https://localhost:8080/",
     "height": 254
    },
    "colab_type": "code",
    "id": "e3yMvb8W9uNg",
    "outputId": "6ab1097c-66a3-467b-8296-7ae08168ac74"
   },
   "outputs": [
    {
     "name": "stdout",
     "output_type": "stream",
     "text": [
      "Assignment_group\n",
      "GRP_8     362\n",
      "GRP_9     153\n",
      "GRP_0     132\n",
      "GRP_5      96\n",
      "GRP_6      89\n",
      "         ... \n",
      "GRP_43      1\n",
      "GRP_35      1\n",
      "GRP_37      1\n",
      "GRP_38      1\n",
      "GRP_72      1\n",
      "Length: 74, dtype: int64\n"
     ]
    }
   ],
   "source": [
    "Temp2 = data.groupby(['Assignment_group', 'Caller']).size().groupby(level=0).max().sort_values(ascending=False)\n",
    "print(Temp2)\n",
    "#data.groupby(['Caller', 'Assignment group']).size()"
   ]
  },
  {
   "cell_type": "markdown",
   "metadata": {
    "colab_type": "text",
    "id": "54MbZ018DeSI"
   },
   "source": [
    "### Assignment groups that are important to the business\n",
    "\n",
    "* We try to derive an interesting business insight. \n",
    "* We are grouping the callers \n",
    "and Assignment Group and publish them by grouping them based on the Assignment Group. \n",
    "* The top 3 callers have logged their incidents into Group 8, Group 9 and Group 0. \n"
   ]
  },
  {
   "cell_type": "code",
   "execution_count": 21,
   "metadata": {
    "colab": {
     "base_uri": "https://localhost:8080/",
     "height": 297
    },
    "colab_type": "code",
    "id": "2OAdInDygCWl",
    "outputId": "df0cf526-936a-442b-c80f-029edb94939c"
   },
   "outputs": [
    {
     "data": {
      "text/plain": [
       "<matplotlib.axes._subplots.AxesSubplot at 0x7f6be03abba8>"
      ]
     },
     "execution_count": 21,
     "metadata": {
      "tags": []
     },
     "output_type": "execute_result"
    },
    {
     "data": {
      "image/png": "[encoded data removed]",
      "text/plain": [
       "<Figure size 432x288 with 1 Axes>"
      ]
     },
     "metadata": {
      "needs_background": "light",
      "tags": []
     },
     "output_type": "display_data"
    }
   ],
   "source": [
    "sns.countplot(y=\"Assignment_group\", data=data, \n",
    "              order=data[\"Assignment_group\"].value_counts().iloc[:5].index)"
   ]
  },
  {
   "cell_type": "code",
   "execution_count": 22,
   "metadata": {
    "colab": {
     "base_uri": "https://localhost:8080/",
     "height": 108
    },
    "colab_type": "code",
    "id": "30nsst1uZ8uY",
    "outputId": "642fe2f2-1480-4315-dc47-709276ca76f1"
   },
   "outputs": [
    {
     "data": {
      "text/plain": [
       "count      8500\n",
       "unique       74\n",
       "top       GRP_0\n",
       "freq       3976\n",
       "Name: Assignment_group, dtype: object"
      ]
     },
     "execution_count": 22,
     "metadata": {
      "tags": []
     },
     "output_type": "execute_result"
    }
   ],
   "source": [
    "data['Assignment_group'].describe()"
   ]
  },
  {
   "cell_type": "code",
   "execution_count": 26,
   "metadata": {
    "colab": {},
    "colab_type": "code",
    "id": "8k0FzaFnKmeC"
   },
   "outputs": [],
   "source": [
    "#Temp3 = data.groupby(['Short description', 'Assignment group']).size().sort_values(ascending=False)\n",
    "#print(Temp3)\n",
    "#data.groupby(['Short description', 'Assignment group']).size().groupby(level=1).max().sort_values(ascending=False)"
   ]
  },
  {
   "cell_type": "markdown",
   "metadata": {
    "colab_type": "text",
    "id": "ooqhtXDelaAP"
   },
   "source": [
    "Group the Assignment group andShort description and publishing them based on the maximum count"
   ]
  },
  {
   "cell_type": "code",
   "execution_count": 23,
   "metadata": {
    "colab": {
     "base_uri": "https://localhost:8080/",
     "height": 417
    },
    "colab_type": "code",
    "id": "2jY4ADPHxpXr",
    "outputId": "1856046e-aef0-4d44-8bfe-6465db2ab4b5"
   },
   "outputs": [
    {
     "name": "stdout",
     "output_type": "stream",
     "text": [
      "Assignment_group\n",
      "GRP_0     3976\n",
      "GRP_8      661\n",
      "GRP_24     289\n",
      "GRP_12     257\n",
      "GRP_9      252\n",
      "GRP_2      241\n",
      "GRP_19     215\n",
      "GRP_3      200\n",
      "GRP_6      184\n",
      "GRP_13     145\n",
      "GRP_10     140\n",
      "GRP_5      129\n",
      "GRP_14     118\n",
      "GRP_25     116\n",
      "GRP_33     107\n",
      "GRP_4      100\n",
      "GRP_29      97\n",
      "GRP_18      88\n",
      "GRP_16      85\n",
      "GRP_17      81\n",
      "Name: Short_description, dtype: int64\n"
     ]
    }
   ],
   "source": [
    "Temp3 = data[['Assignment_group','Short_description']].groupby('Assignment_group')['Short_description'].count().nlargest(20)\n",
    "print(Temp3)"
   ]
  },
  {
   "cell_type": "code",
   "execution_count": 24,
   "metadata": {
    "colab": {
     "base_uri": "https://localhost:8080/",
     "height": 338
    },
    "colab_type": "code",
    "id": "HooCAdSyqjE1",
    "outputId": "7d3eb20d-32bd-4e69-e1f7-e5f28a6f9a57"
   },
   "outputs": [
    {
     "data": {
      "text/plain": [
       "<matplotlib.axes._subplots.AxesSubplot at 0x7f6bdfd7c7b8>"
      ]
     },
     "execution_count": 24,
     "metadata": {
      "tags": []
     },
     "output_type": "execute_result"
    },
    {
     "data": {
      "image/png": "[encoded data removed]",
      "text/plain": [
       "<Figure size 360x360 with 1 Axes>"
      ]
     },
     "metadata": {
      "needs_background": "light",
      "tags": []
     },
     "output_type": "display_data"
    }
   ],
   "source": [
    "#.sort_values(ascending=False)\n",
    "Temp4 = data.groupby([\"Short_description\", \"Assignment_group\"])[\"Caller\"].count().nlargest(5)\n",
    "Temp4.plot(kind='barh', figsize=(5,5))"
   ]
  },
  {
   "cell_type": "markdown",
   "metadata": {
    "colab_type": "text",
    "id": "gfpcRbYiVEj7"
   },
   "source": [
    "### Top incident categories and Assignment groups to focus on \n",
    "\n",
    "1. We are grouping the Short description and Assignment Group and publish them.\n",
    "2. We group them based on the Assignment Group that has the maximum incidents.\n",
    "3. The top 5 incidents Group 0 (which has maximum incidents) are published.\n",
    "4. This kind of insights can help the business focus more on the specific Assignment groups by allocating more resources to handle those incidents"
   ]
  },
  {
   "cell_type": "code",
   "execution_count": 25,
   "metadata": {
    "colab": {
     "base_uri": "https://localhost:8080/",
     "height": 235
    },
    "colab_type": "code",
    "id": "nuU4bavm7HOS",
    "outputId": "87142144-afcf-47e7-c479-1f3cb5ce3893"
   },
   "outputs": [
    {
     "data": {
      "text/plain": [
       "GRP_0     3976\n",
       "GRP_8      661\n",
       "GRP_24     289\n",
       "GRP_12     257\n",
       "GRP_9      252\n",
       "          ... \n",
       "GRP_35       1\n",
       "GRP_73       1\n",
       "GRP_61       1\n",
       "GRP_67       1\n",
       "GRP_64       1\n",
       "Name: Assignment_group, Length: 74, dtype: int64"
      ]
     },
     "execution_count": 25,
     "metadata": {
      "tags": []
     },
     "output_type": "execute_result"
    }
   ],
   "source": [
    "#data['Assignment group'].hist( figsize = (50,10))\n",
    "data['Assignment_group'].value_counts()"
   ]
  },
  {
   "cell_type": "code",
   "execution_count": 26,
   "metadata": {
    "colab": {
     "base_uri": "https://localhost:8080/",
     "height": 339
    },
    "colab_type": "code",
    "id": "-oIoXwpO8vXe",
    "outputId": "6d2c8037-6674-4283-b429-5b02d530aca7"
   },
   "outputs": [
    {
     "data": {
      "text/plain": [
       "<matplotlib.axes._subplots.AxesSubplot at 0x7f6bdfd642b0>"
      ]
     },
     "execution_count": 26,
     "metadata": {
      "tags": []
     },
     "output_type": "execute_result"
    },
    {
     "data": {
      "image/png": "[encoded data removed]",
      "text/plain": [
       "<Figure size 720x360 with 1 Axes>"
      ]
     },
     "metadata": {
      "needs_background": "light",
      "tags": []
     },
     "output_type": "display_data"
    }
   ],
   "source": [
    "#plt.figure(figsize=(25,10))\n",
    "#plt.plot(data['Assignment group'].value_counts().sort_index())\n",
    "data['Assignment_group'].value_counts().plot(figsize =(10,5))\n",
    "\n",
    "# The graph below gives an idea of the Assignment groups that have the maximum incidents"
   ]
  },
  {
   "cell_type": "code",
   "execution_count": 27,
   "metadata": {
    "colab": {
     "base_uri": "https://localhost:8080/",
     "height": 392
    },
    "colab_type": "code",
    "id": "rsUuPY52kjBU",
    "outputId": "b805f054-acc7-418f-f2de-da36e25d21c9"
   },
   "outputs": [
    {
     "data": {
      "text/plain": [
       "<matplotlib.axes._subplots.AxesSubplot at 0x7f6bdfcc6400>"
      ]
     },
     "execution_count": 27,
     "metadata": {
      "tags": []
     },
     "output_type": "execute_result"
    },
    {
     "data": {
      "image/png": "[encoded data removed]",
      "text/plain": [
       "<Figure size 432x432 with 1 Axes>"
      ]
     },
     "metadata": {
      "needs_background": "light",
      "tags": []
     },
     "output_type": "display_data"
    }
   ],
   "source": [
    "data['Assignment_group'].value_counts().head(10).plot(kind='barh', figsize=(6,6))"
   ]
  },
  {
   "cell_type": "code",
   "execution_count": 28,
   "metadata": {
    "colab": {
     "base_uri": "https://localhost:8080/",
     "height": 393
    },
    "colab_type": "code",
    "id": "ggNQpweGBc_A",
    "outputId": "4dcad362-7198-4912-84ea-dd1c57d1422c"
   },
   "outputs": [
    {
     "data": {
      "text/plain": [
       "<matplotlib.axes._subplots.AxesSubplot at 0x7f6bdfcb3dd8>"
      ]
     },
     "execution_count": 28,
     "metadata": {
      "tags": []
     },
     "output_type": "execute_result"
    },
    {
     "data": {
      "image/png": "[encoded data removed]",
      "text/plain": [
       "<Figure size 432x432 with 1 Axes>"
      ]
     },
     "metadata": {
      "needs_background": "light",
      "tags": []
     },
     "output_type": "display_data"
    }
   ],
   "source": [
    "#sns.boxplot(x='Assignment group', data= data)\n",
    "data['Assignment_group'].value_counts().plot(kind='box', figsize=(6,6))"
   ]
  },
  {
   "cell_type": "markdown",
   "metadata": {
    "colab_type": "text",
    "id": "J5q06uu_esCE"
   },
   "source": [
    "\n",
    "1. The graph is just to indicate there are many outliers from an Assignment group perspective.\n",
    "2. Working by taking average values to address ouliers may not really help "
   ]
  },
  {
   "cell_type": "markdown",
   "metadata": {
    "colab_type": "text",
    "id": "MzPvgKZDxRe6"
   },
   "source": [
    "Trying to understand how the incident details are captured in the Short description. Even though the intent is to capture only a few words of the incident, some have got more words. Trying to understand the objective behind the legthy statements of such incidents. Publishing the top 5."
   ]
  },
  {
   "cell_type": "code",
   "execution_count": 29,
   "metadata": {
    "colab": {},
    "colab_type": "code",
    "id": "V9p0_PKh07PU"
   },
   "outputs": [],
   "source": [
    "data[\"Words_count_Short_description\"] = data[\"Short_description\"].apply(lambda x: len(str(x).split(\" \")))"
   ]
  },
  {
   "cell_type": "code",
   "execution_count": 30,
   "metadata": {
    "colab": {
     "base_uri": "https://localhost:8080/",
     "height": 198
    },
    "colab_type": "code",
    "id": "91LLsZof9tKk",
    "outputId": "851cb071-031a-4347-96c0-e431134ac5aa"
   },
   "outputs": [
    {
     "data": {
      "text/html": [
       "<div>\n",
       "<style scoped>\n",
       "    .dataframe tbody tr th:only-of-type {\n",
       "        vertical-align: middle;\n",
       "    }\n",
       "\n",
       "    .dataframe tbody tr th {\n",
       "        vertical-align: top;\n",
       "    }\n",
       "\n",
       "    .dataframe thead th {\n",
       "        text-align: right;\n",
       "    }\n",
       "</style>\n",
       "<table border=\"1\" class=\"dataframe\">\n",
       "  <thead>\n",
       "    <tr style=\"text-align: right;\">\n",
       "      <th></th>\n",
       "      <th>Short_description</th>\n",
       "      <th>Words_count_Short_description</th>\n",
       "    </tr>\n",
       "  </thead>\n",
       "  <tbody>\n",
       "    <tr>\n",
       "      <th>4385</th>\n",
       "      <td>pc set up for new employee -mghlisha.baranwfhr...</td>\n",
       "      <td>41</td>\n",
       "    </tr>\n",
       "    <tr>\n",
       "      <th>1076</th>\n",
       "      <td>hello    on my order below.   i have 5  drop s...</td>\n",
       "      <td>32</td>\n",
       "    </tr>\n",
       "    <tr>\n",
       "      <th>3907</th>\n",
       "      <td>i am not able to log into my vpn. when i am tr...</td>\n",
       "      <td>28</td>\n",
       "    </tr>\n",
       "    <tr>\n",
       "      <th>2881</th>\n",
       "      <td>i did a po and it received with no problem, i ...</td>\n",
       "      <td>28</td>\n",
       "    </tr>\n",
       "    <tr>\n",
       "      <th>4164</th>\n",
       "      <td>urgent request to complete your requirement   ...</td>\n",
       "      <td>27</td>\n",
       "    </tr>\n",
       "  </tbody>\n",
       "</table>\n",
       "</div>"
      ],
      "text/plain": [
       "                                      Short_description  Words_count_Short_description\n",
       "4385  pc set up for new employee -mghlisha.baranwfhr...                             41\n",
       "1076  hello    on my order below.   i have 5  drop s...                             32\n",
       "3907  i am not able to log into my vpn. when i am tr...                             28\n",
       "2881  i did a po and it received with no problem, i ...                             28\n",
       "4164  urgent request to complete your requirement   ...                             27"
      ]
     },
     "execution_count": 30,
     "metadata": {
      "tags": []
     },
     "output_type": "execute_result"
    }
   ],
   "source": [
    "data[[\"Short_description\" ,\"Words_count_Short_description\"]].sort_values(by = \"Words_count_Short_description\", ascending =False).head()"
   ]
  },
  {
   "cell_type": "code",
   "execution_count": 31,
   "metadata": {
    "colab": {},
    "colab_type": "code",
    "id": "bZUa-bHHnuBE"
   },
   "outputs": [],
   "source": [
    "# Converting the data type from object to str for further operations and analysis\n",
    "\n",
    "data[\"Short_description\"] = data[\"Short_description\"].astype(str)\n",
    "data[\"Description\"] = data[\"Description\"].astype(str)\n",
    "data[\"Assignment_group\"] = data[\"Assignment_group\"].astype(str)"
   ]
  },
  {
   "cell_type": "code",
   "execution_count": 32,
   "metadata": {
    "colab": {
     "base_uri": "https://localhost:8080/",
     "height": 198
    },
    "colab_type": "code",
    "id": "YhaDfPbWtyz2",
    "outputId": "3d7015c7-5f58-4639-c5e7-fad0a5e1345c"
   },
   "outputs": [
    {
     "data": {
      "text/html": [
       "<div>\n",
       "<style scoped>\n",
       "    .dataframe tbody tr th:only-of-type {\n",
       "        vertical-align: middle;\n",
       "    }\n",
       "\n",
       "    .dataframe tbody tr th {\n",
       "        vertical-align: top;\n",
       "    }\n",
       "\n",
       "    .dataframe thead th {\n",
       "        text-align: right;\n",
       "    }\n",
       "</style>\n",
       "<table border=\"1\" class=\"dataframe\">\n",
       "  <thead>\n",
       "    <tr style=\"text-align: right;\">\n",
       "      <th></th>\n",
       "      <th>Short_description</th>\n",
       "      <th>Description</th>\n",
       "      <th>Caller</th>\n",
       "      <th>Assignment_group</th>\n",
       "      <th>Words_count_Short_description</th>\n",
       "    </tr>\n",
       "  </thead>\n",
       "  <tbody>\n",
       "    <tr>\n",
       "      <th>0</th>\n",
       "      <td>login issue</td>\n",
       "      <td>-verified user details.(employee# &amp; manager na...</td>\n",
       "      <td>spxjnwir pjlcoqds</td>\n",
       "      <td>GRP_0</td>\n",
       "      <td>2</td>\n",
       "    </tr>\n",
       "    <tr>\n",
       "      <th>1</th>\n",
       "      <td>outlook</td>\n",
       "      <td>\\n\\nreceived from: hmjdrvpb.komuaywn@gmail.com...</td>\n",
       "      <td>hmjdrvpb komuaywn</td>\n",
       "      <td>GRP_0</td>\n",
       "      <td>1</td>\n",
       "    </tr>\n",
       "    <tr>\n",
       "      <th>2</th>\n",
       "      <td>cant log in to vpn</td>\n",
       "      <td>\\n\\nreceived from: eylqgodm.ybqkwiam@gmail.com...</td>\n",
       "      <td>eylqgodm ybqkwiam</td>\n",
       "      <td>GRP_0</td>\n",
       "      <td>5</td>\n",
       "    </tr>\n",
       "    <tr>\n",
       "      <th>3</th>\n",
       "      <td>unable to access hr_tool page</td>\n",
       "      <td>unable to access hr_tool page</td>\n",
       "      <td>xbkucsvz gcpydteq</td>\n",
       "      <td>GRP_0</td>\n",
       "      <td>5</td>\n",
       "    </tr>\n",
       "    <tr>\n",
       "      <th>4</th>\n",
       "      <td>skype error</td>\n",
       "      <td>skype error</td>\n",
       "      <td>owlgqjme qhcozdfx</td>\n",
       "      <td>GRP_0</td>\n",
       "      <td>3</td>\n",
       "    </tr>\n",
       "  </tbody>\n",
       "</table>\n",
       "</div>"
      ],
      "text/plain": [
       "               Short_description  ... Words_count_Short_description\n",
       "0                    login issue  ...                             2\n",
       "1                        outlook  ...                             1\n",
       "2             cant log in to vpn  ...                             5\n",
       "3  unable to access hr_tool page  ...                             5\n",
       "4                   skype error   ...                             3\n",
       "\n",
       "[5 rows x 5 columns]"
      ]
     },
     "execution_count": 32,
     "metadata": {
      "tags": []
     },
     "output_type": "execute_result"
    }
   ],
   "source": [
    "data.head()"
   ]
  },
  {
   "cell_type": "code",
   "execution_count": 33,
   "metadata": {
    "colab": {},
    "colab_type": "code",
    "id": "OwjrtPsvs1yx"
   },
   "outputs": [],
   "source": [
    "from nltk.tokenize import RegexpTokenizer\n",
    "import re"
   ]
  },
  {
   "cell_type": "code",
   "execution_count": null,
   "metadata": {
    "colab": {},
    "colab_type": "code",
    "id": "ISzYOq_-uk6Y"
   },
   "outputs": [],
   "source": [
    "# Finding the length of each of the incident's short description\n",
    "\n",
    "#data['Short_description'].apply(len).sort_values(ascending=False)\n",
    "#print(data['Short_description'].apply(lambda x: len(x.split(\" \"))).sort_values(ascending=False))\n",
    "#data.tail()"
   ]
  },
  {
   "cell_type": "markdown",
   "metadata": {
    "colab_type": "text",
    "id": "rSy0GYuVnaNj"
   },
   "source": [
    "We will try and dod a bit of Data Cleaning. Following are done to address that\n",
    "1. Remove Stopwords\n",
    "2. Handling case sensitive letter\n",
    "3. Handling URL and others"
   ]
  },
  {
   "cell_type": "code",
   "execution_count": 34,
   "metadata": {
    "colab": {},
    "colab_type": "code",
    "id": "TRMzWtzsmTPH"
   },
   "outputs": [],
   "source": [
    "# Data Cleaning operation for analysis\n",
    "\n",
    "data[\"Short_description\"] = data[\"Short_description\"].apply(lambda x: x.lower())\n",
    "data[\"Short_description\"] = data[\"Short_description\"].apply(lambda x: re.sub('\\w*\\d\\w*', '',x))\n",
    "data[\"Short_description\"] = data[\"Short_description\"].apply(lambda x: re.sub('http\\S+:\\/\\/.*','',x))\n",
    "data[\"Short_description\"] = data[\"Short_description\"].apply(lambda x: re.sub(' + ',' ',x))\n",
    "data[\"Short_description\"] = data[\"Short_description\"].str.replace('[^\\w\\s]','')\n",
    "data[\"Short_description\"] = data[\"Short_description\"].apply(lambda x: re.sub(r'https?:\\/\\/.*[\\r\\n]*', '', x, flags=re.MULTILINE))\n",
    "data[\"Short_description\"] = data[\"Short_description\"].apply(lambda x: re.sub(r'\\<a href', ' ', x))\n",
    "data[\"Short_description\"] = data[\"Short_description\"].apply(lambda x: re.sub(r'&amp;', '', x))\n",
    "data[\"Short_description\"] = data[\"Short_description\"].apply(lambda x: re.sub(r'[_\"\\-;%()|+&=*%.,!?:#$@\\[\\]/]', ' ', x))\n",
    "data[\"Short_description\"] = data[\"Short_description\"].apply(lambda x: re.sub(r'<br />', ' ', x))"
   ]
  },
  {
   "cell_type": "code",
   "execution_count": 35,
   "metadata": {
    "colab": {
     "base_uri": "https://localhost:8080/",
     "height": 198
    },
    "colab_type": "code",
    "id": "pqqivP-SLTKd",
    "outputId": "7548db3d-96e4-496c-f4b4-190e0209bebf"
   },
   "outputs": [
    {
     "data": {
      "text/html": [
       "<div>\n",
       "<style scoped>\n",
       "    .dataframe tbody tr th:only-of-type {\n",
       "        vertical-align: middle;\n",
       "    }\n",
       "\n",
       "    .dataframe tbody tr th {\n",
       "        vertical-align: top;\n",
       "    }\n",
       "\n",
       "    .dataframe thead th {\n",
       "        text-align: right;\n",
       "    }\n",
       "</style>\n",
       "<table border=\"1\" class=\"dataframe\">\n",
       "  <thead>\n",
       "    <tr style=\"text-align: right;\">\n",
       "      <th></th>\n",
       "      <th>Short_description</th>\n",
       "      <th>Description</th>\n",
       "      <th>Caller</th>\n",
       "      <th>Assignment_group</th>\n",
       "      <th>Words_count_Short_description</th>\n",
       "    </tr>\n",
       "  </thead>\n",
       "  <tbody>\n",
       "    <tr>\n",
       "      <th>8495</th>\n",
       "      <td>emails not coming in from zz mail</td>\n",
       "      <td>\\n\\nreceived from: avglmrts.vhqmtiua@gmail.com...</td>\n",
       "      <td>avglmrts vhqmtiua</td>\n",
       "      <td>GRP_29</td>\n",
       "      <td>7</td>\n",
       "    </tr>\n",
       "    <tr>\n",
       "      <th>8496</th>\n",
       "      <td>telephony software issue</td>\n",
       "      <td>telephony_software issue</td>\n",
       "      <td>rbozivdq gmlhrtvp</td>\n",
       "      <td>GRP_0</td>\n",
       "      <td>2</td>\n",
       "    </tr>\n",
       "    <tr>\n",
       "      <th>8497</th>\n",
       "      <td>windows password reset for tifpdchb pedxruyf</td>\n",
       "      <td>vip2: windows password reset for tifpdchb pedx...</td>\n",
       "      <td>oybwdsgx oxyhwrfz</td>\n",
       "      <td>GRP_0</td>\n",
       "      <td>7</td>\n",
       "    </tr>\n",
       "    <tr>\n",
       "      <th>8498</th>\n",
       "      <td>machine não estã funcionando</td>\n",
       "      <td>i am unable to access the machine utilities to...</td>\n",
       "      <td>ufawcgob aowhxjky</td>\n",
       "      <td>GRP_62</td>\n",
       "      <td>4</td>\n",
       "    </tr>\n",
       "    <tr>\n",
       "      <th>8499</th>\n",
       "      <td>an mehreren pcs lassen sich verschiedene prgra...</td>\n",
       "      <td>an mehreren pc`s lassen sich verschiedene prgr...</td>\n",
       "      <td>kqvbrspl jyzoklfx</td>\n",
       "      <td>GRP_49</td>\n",
       "      <td>10</td>\n",
       "    </tr>\n",
       "  </tbody>\n",
       "</table>\n",
       "</div>"
      ],
      "text/plain": [
       "                                      Short_description  ... Words_count_Short_description\n",
       "8495                  emails not coming in from zz mail  ...                             7\n",
       "8496                           telephony software issue  ...                             2\n",
       "8497       windows password reset for tifpdchb pedxruyf  ...                             7\n",
       "8498                       machine não estã funcionando  ...                             4\n",
       "8499  an mehreren pcs lassen sich verschiedene prgra...  ...                            10\n",
       "\n",
       "[5 rows x 5 columns]"
      ]
     },
     "execution_count": 35,
     "metadata": {
      "tags": []
     },
     "output_type": "execute_result"
    }
   ],
   "source": [
    "data.tail()"
   ]
  },
  {
   "cell_type": "code",
   "execution_count": 36,
   "metadata": {
    "colab": {
     "base_uri": "https://localhost:8080/",
     "height": 54
    },
    "colab_type": "code",
    "id": "Bmbyum2VGPIX",
    "outputId": "778e66bf-8d5b-4ce1-b72e-b06623e08bc1"
   },
   "outputs": [
    {
     "name": "stdout",
     "output_type": "stream",
     "text": [
      "[nltk_data] Downloading package stopwords to /root/nltk_data...\n",
      "[nltk_data]   Unzipping corpora/stopwords.zip.\n"
     ]
    }
   ],
   "source": [
    "import nltk\n",
    "nltk.download('stopwords')\n",
    "import warnings \n",
    "%matplotlib inline\n",
    "warnings.filterwarnings(\"ignore\", category=DeprecationWarning)\n",
    "from nltk.corpus import stopwords\n",
    "stop = stopwords.words('english')"
   ]
  },
  {
   "cell_type": "code",
   "execution_count": 37,
   "metadata": {
    "colab": {
     "base_uri": "https://localhost:8080/",
     "height": 126
    },
    "colab_type": "code",
    "id": "IKRv6gykGRb9",
    "outputId": "5ea96fd6-4b7e-47e1-990a-2e369602bed2"
   },
   "outputs": [
    {
     "data": {
      "text/plain": [
       "8495                                emails coming zz mail\n",
       "8496                             telephony software issue\n",
       "8497             windows password reset tifpdchb pedxruyf\n",
       "8498                         machine não estã funcionando\n",
       "8499    mehreren pcs lassen sich verschiedene prgramdn...\n",
       "Name: Short_description, dtype: object"
      ]
     },
     "execution_count": 37,
     "metadata": {
      "tags": []
     },
     "output_type": "execute_result"
    }
   ],
   "source": [
    "# The following cblock, we attemp to remove the stop words and see that has performed.\n",
    "\n",
    "data[\"Short_description\"] = data[\"Short_description\"].apply(lambda x: \" \".join(x for x in x.split() if x not in stop))\n",
    "data[\"Short_description\"].tail()"
   ]
  },
  {
   "cell_type": "code",
   "execution_count": 38,
   "metadata": {
    "colab": {
     "base_uri": "https://localhost:8080/",
     "height": 72
    },
    "colab_type": "code",
    "id": "SYM8EHOE7TJD",
    "outputId": "08637063-5a96-4585-b909-3b798f6e7f0b"
   },
   "outputs": [
    {
     "name": "stdout",
     "output_type": "stream",
     "text": [
      "[nltk_data] Downloading package wordnet to /root/nltk_data...\n",
      "[nltk_data]   Unzipping corpora/wordnet.zip.\n"
     ]
    },
    {
     "data": {
      "text/plain": [
       "True"
      ]
     },
     "execution_count": 38,
     "metadata": {
      "tags": []
     },
     "output_type": "execute_result"
    }
   ],
   "source": [
    "import nltk\n",
    "nltk.download('wordnet')"
   ]
  },
  {
   "cell_type": "markdown",
   "metadata": {
    "colab_type": "text",
    "id": "itPWiJmEBhcK"
   },
   "source": [
    "Text preprocessing\n"
   ]
  },
  {
   "cell_type": "markdown",
   "metadata": {
    "colab_type": "text",
    "id": "fsJDBT73o6N_"
   },
   "source": [
    "Now, we will do lemmatization, since it will help in stripping the suffices of the words. Also, It makes use of the vocabulary and does a morphological analysis to obtain the root word. \n",
    "\n",
    "Lemmatization is preffered over stemming because stemming only converts the word into root word."
   ]
  },
  {
   "cell_type": "code",
   "execution_count": 39,
   "metadata": {
    "colab": {
     "base_uri": "https://localhost:8080/",
     "height": 126
    },
    "colab_type": "code",
    "id": "Gj43ZPjkBi1p",
    "outputId": "6de37274-2107-4a3f-92e2-8059c6ed77ac"
   },
   "outputs": [
    {
     "data": {
      "text/plain": [
       "8495                                   email come zz mail\n",
       "8496                             telephony software issue\n",
       "8497             windows password reset tifpdchb pedxruyf\n",
       "8498                         machine não estã funcionando\n",
       "8499    mehreren pcs lassen sich verschiedene prgramdn...\n",
       "Name: Short_description, dtype: object"
      ]
     },
     "execution_count": 39,
     "metadata": {
      "tags": []
     },
     "output_type": "execute_result"
    }
   ],
   "source": [
    "from textblob import TextBlob, Word\n",
    "#from textblob import word\n",
    "nltk.data.path.append('')\n",
    "data[\"Short_description\"] = data[\"Short_description\"].apply(lambda x: \" \".join([Word(myword).lemmatize(pos=\"v\") for myword in x.split()]))\n",
    "data[\"Short_description\"].tail()"
   ]
  },
  {
   "cell_type": "code",
   "execution_count": 40,
   "metadata": {
    "colab": {
     "base_uri": "https://localhost:8080/",
     "height": 501
    },
    "colab_type": "code",
    "id": "vf32FYqrg6yt",
    "outputId": "821c37c2-e349-45d4-f777-745723e44cd9"
   },
   "outputs": [
    {
     "data": {
      "text/plain": [
       "<matplotlib.axes._subplots.AxesSubplot at 0x7f6bd44d5780>"
      ]
     },
     "execution_count": 40,
     "metadata": {
      "tags": []
     },
     "output_type": "execute_result"
    },
    {
     "data": {
      "image/png": "[encoded data removed]",
      "text/plain": [
       "<Figure size 576x576 with 1 Axes>"
      ]
     },
     "metadata": {
      "needs_background": "light",
      "tags": []
     },
     "output_type": "display_data"
    }
   ],
   "source": [
    "Short_description_most_freq_words = pd.Series(\" \".join(data[\"Short_description\"]).split()).value_counts()\n",
    "Short_description_most_freq_words.head(20)\n",
    "Short_description_most_freq_words.head(20).plot(kind='barh', figsize=(8,8))"
   ]
  },
  {
   "cell_type": "markdown",
   "metadata": {
    "colab_type": "text",
    "id": "tel5JeouraHe"
   },
   "source": [
    "### Observations\n",
    "\n",
    "1. These are the most frequent words of the incidents in short description attribute. \n",
    "2. This will help us understand a brief about the kind of incidents that are being logged by the users.\n",
    "3. Seeing the graph, we can say that maximum incidents logged by the users were frequently were because of a password issue, scheduled job failure issue or because of an issue with the erp"
   ]
  },
  {
   "cell_type": "code",
   "execution_count": null,
   "metadata": {
    "colab": {},
    "colab_type": "code",
    "id": "4o-oHDXJBdbl"
   },
   "outputs": [],
   "source": [
    "#plot()\n",
    "#sns.boxplot(x='Assignment group', data= data)\n",
    "#data['Assignment group'].value_counts().plot(kind='box', figsize=(6,6))"
   ]
  },
  {
   "cell_type": "code",
   "execution_count": null,
   "metadata": {
    "colab": {},
    "colab_type": "code",
    "id": "QIIix1_DK0T8"
   },
   "outputs": [],
   "source": [
    "#data[\"Short description\"] = data[\"Short description\"].apply(lambda x: TextBlob(x).translate(to='en'))\n",
    "#data[\"Short description\"] = data[\"Short description\"].apply(lambda x: TextBlob(x.strip()).translate(from= to='en'))"
   ]
  },
  {
   "cell_type": "code",
   "execution_count": null,
   "metadata": {
    "colab": {},
    "colab_type": "code",
    "id": "XZuQkR2hUYtt"
   },
   "outputs": [],
   "source": [
    "blob = TextBlob(data[\"Short_description\"][2499])\n",
    "print(blob.detect_language())\n",
    "print(blob.translate(to='en'))"
   ]
  },
  {
   "cell_type": "markdown",
   "metadata": {
    "colab_type": "text",
    "id": "oisPSaj7HfTH"
   },
   "source": [
    "### Observations\n",
    "\n",
    "1. We wanted to quickly test if there are other languages and translate them to English.\n",
    "2. This pre-processing technioque will help us analyze the data and to further process them.\n",
    "3. We are using the TextBlob package to accomplish this translation. \n",
    "4. Running this more than once lead to an error \"HTTP Error 429: Too Many Requests\". Because TextBlob uses Google API translator, which cannot process too many requests at one time\n"
   ]
  },
  {
   "cell_type": "code",
   "execution_count": null,
   "metadata": {
    "colab": {},
    "colab_type": "code",
    "id": "SWhaML53UZf9"
   },
   "outputs": [],
   "source": [
    "from time import sleep\n",
    "from textblob import TextBlob\n",
    "from textblob.exceptions import NotTranslated    \n",
    "\n",
    "def translate_comment(x):\n",
    "    try:\n",
    "        # Try to translate the string version of the comment\n",
    "        return TextBlob(str(x)).translate(to='en')\n",
    "    except NotTranslated:\n",
    "        # If the output is the same as the input just return the TextBlob version of the input\n",
    "        return TextBlob(str(x))\n",
    "\n",
    "for i in range(len(data[\"Short_description\"])):\n",
    "    # Detect and Translate one comment at a time\n",
    "    blob = TextBlob(data[\"Short_description\"].iloc[i])\n",
    "    if (blob.detect_language()) != 'en' :\n",
    "      data[\"Short_description\"].iloc[i] = translate_comment(data[\"Short_description\"].iloc[i])\n",
    "\n",
    "    # Sleep for a few seconds (altering this based on the response)\n",
    "    #sleep(0.1)"
   ]
  },
  {
   "cell_type": "markdown",
   "metadata": {
    "colab_type": "text",
    "id": "Cvc-LQU3BlAX"
   },
   "source": [
    "Creating tokens as required"
   ]
  },
  {
   "cell_type": "code",
   "execution_count": 41,
   "metadata": {
    "colab": {},
    "colab_type": "code",
    "id": "Uf-L_DcRN8CL"
   },
   "outputs": [],
   "source": [
    "from nltk.tokenize import RegexpTokenizer"
   ]
  },
  {
   "cell_type": "markdown",
   "metadata": {
    "colab_type": "text",
    "id": "kh93LNjUOC_l"
   },
   "source": [
    "### Tokenizer\n",
    "1. As part of tokenization, we try to divide the given text into a sequence of words.\n",
    "2. We will use the TextBlob library to convert the Short description Incident text into a Blob and the convert them into a sequence of words"
   ]
  },
  {
   "cell_type": "markdown",
   "metadata": {
    "colab_type": "text",
    "id": "iIfQ7m-2BjP5"
   },
   "source": [
    "Creating word vocabulary from the corpus of report text data\n"
   ]
  },
  {
   "cell_type": "code",
   "execution_count": 42,
   "metadata": {
    "colab": {
     "base_uri": "https://localhost:8080/",
     "height": 72
    },
    "colab_type": "code",
    "id": "BeGN8ylt9LrG",
    "outputId": "73b52ef6-2e58-49ed-8f66-68531f9f47e5"
   },
   "outputs": [
    {
     "name": "stdout",
     "output_type": "stream",
     "text": [
      "[nltk_data] Downloading package punkt to /root/nltk_data...\n",
      "[nltk_data]   Unzipping tokenizers/punkt.zip.\n"
     ]
    },
    {
     "data": {
      "text/plain": [
       "True"
      ]
     },
     "execution_count": 42,
     "metadata": {
      "tags": []
     },
     "output_type": "execute_result"
    }
   ],
   "source": [
    "nltk.download('punkt')"
   ]
  },
  {
   "cell_type": "code",
   "execution_count": 43,
   "metadata": {
    "colab": {
     "base_uri": "https://localhost:8080/",
     "height": 35
    },
    "colab_type": "code",
    "id": "44-r0xao8LMc",
    "outputId": "711d2d10-f07b-4a2d-cb92-f09af7ae2efb"
   },
   "outputs": [
    {
     "data": {
      "text/plain": [
       "WordList(['user', 'wish', 'set', 'lan', 'first', 'priority', 'internet'])"
      ]
     },
     "execution_count": 43,
     "metadata": {
      "tags": []
     },
     "output_type": "execute_result"
    }
   ],
   "source": [
    "TextBlob(data[\"Short_description\"][2499]).words"
   ]
  },
  {
   "cell_type": "code",
   "execution_count": 44,
   "metadata": {
    "colab": {
     "base_uri": "https://localhost:8080/",
     "height": 35
    },
    "colab_type": "code",
    "id": "-6z_yt_D8Wae",
    "outputId": "5dbb90c0-b0b9-43dc-992d-34da24532ec2"
   },
   "outputs": [
    {
     "data": {
      "application/vnd.google.colaboratory.intrinsic+json": {
       "type": "string"
      },
      "text/plain": [
       "'user wish set lan first priority internet'"
      ]
     },
     "execution_count": 44,
     "metadata": {
      "tags": []
     },
     "output_type": "execute_result"
    }
   ],
   "source": [
    "data[\"Short_description\"][2499]"
   ]
  },
  {
   "cell_type": "code",
   "execution_count": 45,
   "metadata": {
    "colab": {
     "base_uri": "https://localhost:8080/",
     "height": 217
    },
    "colab_type": "code",
    "id": "x7s_h3a79iAa",
    "outputId": "6cca6208-aaf3-48ae-fa22-165e206c26f7"
   },
   "outputs": [
    {
     "data": {
      "text/plain": [
       "0                                       [login, issue]\n",
       "1                                            [outlook]\n",
       "2                                     [cant, log, vpn]\n",
       "3                     [unable, access, hr, tool, page]\n",
       "4                                       [skype, error]\n",
       "5                 [unable, log, engineer, tool, skype]\n",
       "6    [event, criticalcompanycom, value, mountpoint,...\n",
       "7    [employment, status, new, nonemployee, enter, ...\n",
       "8                 [unable, disable, add, ins, outlook]\n",
       "9                                     [ticket, update]\n",
       "Name: Short_description_tokens, dtype: object"
      ]
     },
     "execution_count": 45,
     "metadata": {
      "tags": []
     },
     "output_type": "execute_result"
    }
   ],
   "source": [
    "data[\"Short_description_tokens\"] =  data[\"Short_description\"].apply(lambda x: TextBlob(str(x)).words)\n",
    "data[\"Short_description_tokens\"].head(10)"
   ]
  },
  {
   "cell_type": "markdown",
   "metadata": {
    "colab_type": "text",
    "id": "48ue4rHJVlrg"
   },
   "source": [
    "### Vocabulary"
   ]
  },
  {
   "cell_type": "code",
   "execution_count": 89,
   "metadata": {
    "colab": {},
    "colab_type": "code",
    "id": "f5S4SllWTS4C"
   },
   "outputs": [],
   "source": [
    "def Incident_type(incident):\n",
    "    \n",
    "    words = RegexpTokenizer('\\w+').tokenize(incident)\n",
    "    words = [re.sub(r'([xx]+)|([XX]+)|(\\d+)', '', w).lower() for w in words]\n",
    "    words = list(filter(lambda a: a != '', words))\n",
    "    \n",
    "    return words"
   ]
  },
  {
   "cell_type": "code",
   "execution_count": 51,
   "metadata": {
    "colab": {},
    "colab_type": "code",
    "id": "EiJkX0L9ULLr"
   },
   "outputs": [],
   "source": [
    "all_words = list()\n",
    "for incident in data['Short_description']:\n",
    "    for w in Incident_type(incident):\n",
    "        all_words.append(w)"
   ]
  },
  {
   "cell_type": "code",
   "execution_count": 52,
   "metadata": {
    "colab": {
     "base_uri": "https://localhost:8080/",
     "height": 35
    },
    "colab_type": "code",
    "id": "brNyoRJAUYYT",
    "outputId": "08dd85ac-a290-44d6-b8a6-ce48cc166434"
   },
   "outputs": [
    {
     "name": "stdout",
     "output_type": "stream",
     "text": [
      "Size of vocabulary: 5442\n"
     ]
    }
   ],
   "source": [
    "Vocabulary_Size = 'Size of vocabulary: {}'.format(len(set(all_words)))\n",
    "print(Vocabulary_Size)"
   ]
  },
  {
   "cell_type": "markdown",
   "metadata": {
    "colab_type": "text",
    "id": "nb5e9_5G7rTA"
   },
   "source": [
    "### Learnings from Milestone 1\n",
    "\n",
    "There are some key points learnt from Milestone 1. Mentioning a brief of how we would use them to perform the modeling and the strategy involved in doing them. \n",
    "\n",
    "\n",
    "From the problem challenge given and the analysis made above from Callers and Assignment groups, \n",
    "\n",
    "* We will focus only on the incidents that are raised in the rest of the Assignment groups excepting GRP_O.\n",
    "* Model building and evaluation is only going to be done on the data records from GRP_1 to GRP_74. \n",
    "* Ths is because the modeling is done to classify incidents to the right functional groups (which is all assignment groups excepting GRP_0)\n",
    "* The hypotheseis that I arrived at is GRP_0 is the service desk teams and GRP_1 to GRP_74 are the functional teams.\n",
    "\n",
    "\n",
    "More reasoning for the above will be elaborated in the Final report submission."
   ]
  },
  {
   "cell_type": "markdown",
   "metadata": {
    "colab_type": "text",
    "id": "n6klvbHGTLtl"
   },
   "source": [
    "## Recommendations to Business leads\n",
    "\n",
    "#### Model that solves the major business challange\n",
    "\n",
    "* Upon analyzing and comparing the results, we can conclude that **Model 3** is the recommended for L1/L2 teams.\n",
    "* Model 3 will help classify incidents to L3 teams and we see that it gives a consistent accuracy of about 60%.\n",
    "* Model 3 will solve the major challenge that L1/L2 teams will have by cutting down the time they spend in SOP review\n",
    "\n",
    "#### Model developed for additinal business benefit\n",
    "\n",
    "* We have also developed another model **Model 4** that will help the business in classifying the incidents.\n",
    "* We get very good results with the classifier rightly predicting 95% of the times with an accuracy of 70%\n",
    "* The top 6 groups comprise about 45% of the total incidents for SOP review by L1/L2 teams. \n",
    "* Hence this model will be really helpful to predict and assign the incidents to functional groups that manage high volumes.\n",
    "\n",
    "#### Observations from the dataset given\n",
    "\n",
    "* From the problem challenge, it is clear that L1/L2 teams spend about 15 minutes for each incident on SOP review.\n",
    "* Hence the L1/L2 teams must be spending about 606.75 hours altogether on all the incidents.\n",
    "* This is about 2427 incidents or approximately 28% of the overall incidents that the organization deals with.\n",
    "* Also, about 25% of the SOP reviewed incidents which is close to 600+ incidents are being wrongly assigned to functional groups.\n",
    "\n",
    "#### Recommendations to the L1/L2 teams and their leader \n",
    "\n",
    "* We see that Model 3 gives a consistent accuracy of about 60%.\n",
    "* This means the classifier which we built (Model 3) will be able to predict close to 2/3rd of the incidents correctly.\n",
    "* This can be made better based on the suggestions provided (below) and by repeatedely training the model on future incidents and by continuously modeling and monitoring the results.\n",
    "* The recommendation to the business would be to use this classifier in combination with the manual analysis of the results by L1/L2 teams.\n",
    "* Additionally, it is recommended to use the Model 4 to effectively manage the incidents assigned to the high volume L3 teams.\n",
    "\n",
    "\n",
    "\n",
    "\n",
    "\n"
   ]
  },
  {
   "cell_type": "markdown",
   "metadata": {
    "colab_type": "text",
    "id": "00xDZSfMBrzb"
   },
   "source": [
    "## Next steps and further improvement\n",
    "\n",
    "Some of the high-level areas for improvement but detailed report will be made in final report\n",
    "\n",
    "* Data Set for Analysis\n",
    "  * Since many of the languages are not converted properly (using Google transalator), we can build seperate models for them \n",
    "  * We can as well use different word embbeddings for those languages for better predictions and results\n",
    "  * We need more data since the dataset for SOP review has close 2500 records with some groups having less number of records, it is good to have more records to model further\n",
    "\n",
    "* Model building\n",
    " * We can use different variants of LSTM and validate their behaviour\n",
    "    * Latency controlled LSTM\n",
    "    * Deep LSTM structures .... to name a few\n",
    "  * We can build ensemble approaches or stacked model for better predictions\n",
    "  * We also need domain expertise to see if those concepts would help us build better models\n",
    " \n"
   ]
  },
  {
   "cell_type": "code",
   "execution_count": null,
   "metadata": {
    "colab": {},
    "colab_type": "code",
    "id": "K2VEgavYmS7C"
   },
   "outputs": [],
   "source": []
  },
  {
   "cell_type": "markdown",
   "metadata": {
    "colab_type": "text",
    "id": "6kTuOYyYmASv"
   },
   "source": [
    "More detailed report and insights will be covered in the final project work which happens to be the next deliverable."
   ]
  },
  {
   "cell_type": "code",
   "execution_count": null,
   "metadata": {
    "colab": {},
    "colab_type": "code",
    "id": "2cECDsNhmLsA"
   },
   "outputs": [],
   "source": []
  }
 ],
 "metadata": {
  "accelerator": "GPU",
  "colab": {
   "collapsed_sections": [],
   "name": "Arun - Capstone Project - Final.ipynb",
   "provenance": []
  },
  "kernelspec": {
   "display_name": "Python 3",
   "language": "python",
   "name": "python3"
  },
  "language_info": {
   "codemirror_mode": {
    "name": "ipython",
    "version": 3
   },
   "file_extension": ".py",
   "mimetype": "text/x-python",
   "name": "python",
   "nbconvert_exporter": "python",
   "pygments_lexer": "ipython3",
   "version": "3.7.6"
  }
 },
 "nbformat": 4,
 "nbformat_minor": 4
}
